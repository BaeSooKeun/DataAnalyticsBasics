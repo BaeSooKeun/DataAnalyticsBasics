{
 "cells": [
  {
   "cell_type": "markdown",
   "id": "a16ca7bb",
   "metadata": {},
   "source": [
    "# <필수과제 2>\n",
    "- 시계열데이터는 준님이 구글드라이브에 업로드 예정.\n",
    "- 만약 시계열 데이터라면? 추세가 반영될 수 있기 때문에 선형보간이 더 좋은 결과가 나올 수 있다.\n",
    "- 시계열데이터를 공유할 예정 -> 해당 데이터를 가지고 결측값을 만들고 오늘 배웠던 평균 또는 최빈값등 기초통계량 선형보간 등 interpolation iterative imputer\n",
    "- 시계열데이터는 어떤 식으로 결측값을 대체했을 때 더 좋은 결과가 나오지 확인하기!\n",
    "- 다만 시계열데이터를 결측값을 만들기 전에 기존 데이터의 분포와 관계, 컬럼들에 대한 관계들을 확인해 보시고 ( 간단한 시각화로 ) 결측치를 만들어서 결과를 비교해 주세요."
   ]
  },
  {
   "cell_type": "markdown",
   "id": "15c83021",
   "metadata": {},
   "source": [
    "## [필수과제 시계열 데이터 설명]\n",
    "- seattle-weather.csv ( 구글 업로드 완료 )\n",
    "- kaggle 출처\n",
    "- 시애틀 데이터 컬럼은 너무 직관적이라 설명 생략 \n",
    "- y값 precipitation \n",
    "- 사용 컬럼 temp_max, temp_min, wind \n",
    "- wather 컬럼은 인코딩이 필요해서 아시는 분은 사용하시고 사용 안 하셔도 됩니다.\n",
    "\n",
    "#### 꼭 참고할 게 시계열 데이터이므로 train_test_split 사용하면 안 됩니다! \n",
    "따라서 인덱스 기준으로 데이터 잘라서 진행해 주시길 바랍니다. \n",
    "전체 데이터 중 7:3 비중으로 자르기 \n",
    "\n",
    "그리고 결측값은 모든 컬럼에 최소 50개 이상은 만들어 주세요!\n",
    "( 만약 여유로우신 분은 컬럼 별로 다르게 결측치를 만들어서 100, 500, 1000개 로 만들어 보시고 진행하셔도 좋습니다 ! )\n",
    "\n",
    "과제 잘 부탁드립니다!!"
   ]
  },
  {
   "cell_type": "markdown",
   "id": "065787e3",
   "metadata": {},
   "source": [
    "# 1. EDA"
   ]
  },
  {
   "cell_type": "code",
   "execution_count": 1,
   "id": "ca76ffa1",
   "metadata": {},
   "outputs": [
    {
     "data": {
      "text/html": [
       "<div>\n",
       "<style scoped>\n",
       "    .dataframe tbody tr th:only-of-type {\n",
       "        vertical-align: middle;\n",
       "    }\n",
       "\n",
       "    .dataframe tbody tr th {\n",
       "        vertical-align: top;\n",
       "    }\n",
       "\n",
       "    .dataframe thead th {\n",
       "        text-align: right;\n",
       "    }\n",
       "</style>\n",
       "<table border=\"1\" class=\"dataframe\">\n",
       "  <thead>\n",
       "    <tr style=\"text-align: right;\">\n",
       "      <th></th>\n",
       "      <th>date</th>\n",
       "      <th>precipitation</th>\n",
       "      <th>temp_max</th>\n",
       "      <th>temp_min</th>\n",
       "      <th>wind</th>\n",
       "      <th>weather</th>\n",
       "    </tr>\n",
       "  </thead>\n",
       "  <tbody>\n",
       "    <tr>\n",
       "      <th>0</th>\n",
       "      <td>2012-01-01</td>\n",
       "      <td>0.0</td>\n",
       "      <td>12.8</td>\n",
       "      <td>5.0</td>\n",
       "      <td>4.7</td>\n",
       "      <td>drizzle</td>\n",
       "    </tr>\n",
       "    <tr>\n",
       "      <th>1</th>\n",
       "      <td>2012-01-02</td>\n",
       "      <td>10.9</td>\n",
       "      <td>10.6</td>\n",
       "      <td>2.8</td>\n",
       "      <td>4.5</td>\n",
       "      <td>rain</td>\n",
       "    </tr>\n",
       "    <tr>\n",
       "      <th>2</th>\n",
       "      <td>2012-01-03</td>\n",
       "      <td>0.8</td>\n",
       "      <td>11.7</td>\n",
       "      <td>7.2</td>\n",
       "      <td>2.3</td>\n",
       "      <td>rain</td>\n",
       "    </tr>\n",
       "    <tr>\n",
       "      <th>3</th>\n",
       "      <td>2012-01-04</td>\n",
       "      <td>20.3</td>\n",
       "      <td>12.2</td>\n",
       "      <td>5.6</td>\n",
       "      <td>4.7</td>\n",
       "      <td>rain</td>\n",
       "    </tr>\n",
       "    <tr>\n",
       "      <th>4</th>\n",
       "      <td>2012-01-05</td>\n",
       "      <td>1.3</td>\n",
       "      <td>8.9</td>\n",
       "      <td>2.8</td>\n",
       "      <td>6.1</td>\n",
       "      <td>rain</td>\n",
       "    </tr>\n",
       "  </tbody>\n",
       "</table>\n",
       "</div>"
      ],
      "text/plain": [
       "         date  precipitation  temp_max  temp_min  wind  weather\n",
       "0  2012-01-01            0.0      12.8       5.0   4.7  drizzle\n",
       "1  2012-01-02           10.9      10.6       2.8   4.5     rain\n",
       "2  2012-01-03            0.8      11.7       7.2   2.3     rain\n",
       "3  2012-01-04           20.3      12.2       5.6   4.7     rain\n",
       "4  2012-01-05            1.3       8.9       2.8   6.1     rain"
      ]
     },
     "execution_count": 1,
     "metadata": {},
     "output_type": "execute_result"
    }
   ],
   "source": [
    "import matplotlib.pyplot as plt\n",
    "import pandas as pd\n",
    "import numpy as np\n",
    "import seaborn as sns\n",
    "seat = pd.read_csv('seattle-weather.csv')\n",
    "seat.head()"
   ]
  },
  {
   "cell_type": "code",
   "execution_count": 2,
   "id": "5e43ab4a",
   "metadata": {},
   "outputs": [
    {
     "data": {
      "text/html": [
       "<div>\n",
       "<style scoped>\n",
       "    .dataframe tbody tr th:only-of-type {\n",
       "        vertical-align: middle;\n",
       "    }\n",
       "\n",
       "    .dataframe tbody tr th {\n",
       "        vertical-align: top;\n",
       "    }\n",
       "\n",
       "    .dataframe thead th {\n",
       "        text-align: right;\n",
       "    }\n",
       "</style>\n",
       "<table border=\"1\" class=\"dataframe\">\n",
       "  <thead>\n",
       "    <tr style=\"text-align: right;\">\n",
       "      <th></th>\n",
       "      <th>date</th>\n",
       "      <th>precipitation</th>\n",
       "      <th>temp_max</th>\n",
       "      <th>temp_min</th>\n",
       "      <th>wind</th>\n",
       "    </tr>\n",
       "  </thead>\n",
       "  <tbody>\n",
       "    <tr>\n",
       "      <th>0</th>\n",
       "      <td>2012-01-01</td>\n",
       "      <td>0.0</td>\n",
       "      <td>12.8</td>\n",
       "      <td>5.0</td>\n",
       "      <td>4.7</td>\n",
       "    </tr>\n",
       "    <tr>\n",
       "      <th>1</th>\n",
       "      <td>2012-01-02</td>\n",
       "      <td>10.9</td>\n",
       "      <td>10.6</td>\n",
       "      <td>2.8</td>\n",
       "      <td>4.5</td>\n",
       "    </tr>\n",
       "    <tr>\n",
       "      <th>2</th>\n",
       "      <td>2012-01-03</td>\n",
       "      <td>0.8</td>\n",
       "      <td>11.7</td>\n",
       "      <td>7.2</td>\n",
       "      <td>2.3</td>\n",
       "    </tr>\n",
       "    <tr>\n",
       "      <th>3</th>\n",
       "      <td>2012-01-04</td>\n",
       "      <td>20.3</td>\n",
       "      <td>12.2</td>\n",
       "      <td>5.6</td>\n",
       "      <td>4.7</td>\n",
       "    </tr>\n",
       "    <tr>\n",
       "      <th>4</th>\n",
       "      <td>2012-01-05</td>\n",
       "      <td>1.3</td>\n",
       "      <td>8.9</td>\n",
       "      <td>2.8</td>\n",
       "      <td>6.1</td>\n",
       "    </tr>\n",
       "  </tbody>\n",
       "</table>\n",
       "</div>"
      ],
      "text/plain": [
       "         date  precipitation  temp_max  temp_min  wind\n",
       "0  2012-01-01            0.0      12.8       5.0   4.7\n",
       "1  2012-01-02           10.9      10.6       2.8   4.5\n",
       "2  2012-01-03            0.8      11.7       7.2   2.3\n",
       "3  2012-01-04           20.3      12.2       5.6   4.7\n",
       "4  2012-01-05            1.3       8.9       2.8   6.1"
      ]
     },
     "execution_count": 2,
     "metadata": {},
     "output_type": "execute_result"
    }
   ],
   "source": [
    "seat=seat.drop(columns='weather')\n",
    "seat.head()"
   ]
  },
  {
   "cell_type": "code",
   "execution_count": 3,
   "id": "05d953bf",
   "metadata": {},
   "outputs": [
    {
     "data": {
      "text/html": [
       "<div>\n",
       "<style scoped>\n",
       "    .dataframe tbody tr th:only-of-type {\n",
       "        vertical-align: middle;\n",
       "    }\n",
       "\n",
       "    .dataframe tbody tr th {\n",
       "        vertical-align: top;\n",
       "    }\n",
       "\n",
       "    .dataframe thead th {\n",
       "        text-align: right;\n",
       "    }\n",
       "</style>\n",
       "<table border=\"1\" class=\"dataframe\">\n",
       "  <thead>\n",
       "    <tr style=\"text-align: right;\">\n",
       "      <th></th>\n",
       "      <th>date</th>\n",
       "      <th>precipitation</th>\n",
       "      <th>temp_max</th>\n",
       "      <th>temp_min</th>\n",
       "      <th>wind</th>\n",
       "    </tr>\n",
       "  </thead>\n",
       "  <tbody>\n",
       "    <tr>\n",
       "      <th>0</th>\n",
       "      <td>2012-01-01</td>\n",
       "      <td>0.0</td>\n",
       "      <td>12.8</td>\n",
       "      <td>5.0</td>\n",
       "      <td>4.7</td>\n",
       "    </tr>\n",
       "    <tr>\n",
       "      <th>1</th>\n",
       "      <td>2012-01-02</td>\n",
       "      <td>10.9</td>\n",
       "      <td>10.6</td>\n",
       "      <td>2.8</td>\n",
       "      <td>4.5</td>\n",
       "    </tr>\n",
       "    <tr>\n",
       "      <th>2</th>\n",
       "      <td>2012-01-03</td>\n",
       "      <td>0.8</td>\n",
       "      <td>11.7</td>\n",
       "      <td>7.2</td>\n",
       "      <td>2.3</td>\n",
       "    </tr>\n",
       "    <tr>\n",
       "      <th>3</th>\n",
       "      <td>2012-01-04</td>\n",
       "      <td>20.3</td>\n",
       "      <td>12.2</td>\n",
       "      <td>5.6</td>\n",
       "      <td>4.7</td>\n",
       "    </tr>\n",
       "    <tr>\n",
       "      <th>4</th>\n",
       "      <td>2012-01-05</td>\n",
       "      <td>1.3</td>\n",
       "      <td>8.9</td>\n",
       "      <td>2.8</td>\n",
       "      <td>6.1</td>\n",
       "    </tr>\n",
       "    <tr>\n",
       "      <th>...</th>\n",
       "      <td>...</td>\n",
       "      <td>...</td>\n",
       "      <td>...</td>\n",
       "      <td>...</td>\n",
       "      <td>...</td>\n",
       "    </tr>\n",
       "    <tr>\n",
       "      <th>1456</th>\n",
       "      <td>2015-12-27</td>\n",
       "      <td>8.6</td>\n",
       "      <td>4.4</td>\n",
       "      <td>1.7</td>\n",
       "      <td>2.9</td>\n",
       "    </tr>\n",
       "    <tr>\n",
       "      <th>1457</th>\n",
       "      <td>2015-12-28</td>\n",
       "      <td>1.5</td>\n",
       "      <td>5.0</td>\n",
       "      <td>1.7</td>\n",
       "      <td>1.3</td>\n",
       "    </tr>\n",
       "    <tr>\n",
       "      <th>1458</th>\n",
       "      <td>2015-12-29</td>\n",
       "      <td>0.0</td>\n",
       "      <td>7.2</td>\n",
       "      <td>0.6</td>\n",
       "      <td>2.6</td>\n",
       "    </tr>\n",
       "    <tr>\n",
       "      <th>1459</th>\n",
       "      <td>2015-12-30</td>\n",
       "      <td>0.0</td>\n",
       "      <td>5.6</td>\n",
       "      <td>-1.0</td>\n",
       "      <td>3.4</td>\n",
       "    </tr>\n",
       "    <tr>\n",
       "      <th>1460</th>\n",
       "      <td>2015-12-31</td>\n",
       "      <td>0.0</td>\n",
       "      <td>5.6</td>\n",
       "      <td>-2.1</td>\n",
       "      <td>3.5</td>\n",
       "    </tr>\n",
       "  </tbody>\n",
       "</table>\n",
       "<p>1461 rows × 5 columns</p>\n",
       "</div>"
      ],
      "text/plain": [
       "            date  precipitation  temp_max  temp_min  wind\n",
       "0     2012-01-01            0.0      12.8       5.0   4.7\n",
       "1     2012-01-02           10.9      10.6       2.8   4.5\n",
       "2     2012-01-03            0.8      11.7       7.2   2.3\n",
       "3     2012-01-04           20.3      12.2       5.6   4.7\n",
       "4     2012-01-05            1.3       8.9       2.8   6.1\n",
       "...          ...            ...       ...       ...   ...\n",
       "1456  2015-12-27            8.6       4.4       1.7   2.9\n",
       "1457  2015-12-28            1.5       5.0       1.7   1.3\n",
       "1458  2015-12-29            0.0       7.2       0.6   2.6\n",
       "1459  2015-12-30            0.0       5.6      -1.0   3.4\n",
       "1460  2015-12-31            0.0       5.6      -2.1   3.5\n",
       "\n",
       "[1461 rows x 5 columns]"
      ]
     },
     "execution_count": 3,
     "metadata": {},
     "output_type": "execute_result"
    }
   ],
   "source": [
    "seat"
   ]
  },
  {
   "cell_type": "code",
   "execution_count": 4,
   "id": "635f2ca0",
   "metadata": {},
   "outputs": [
    {
     "name": "stdout",
     "output_type": "stream",
     "text": [
      "<class 'pandas.core.frame.DataFrame'>\n",
      "RangeIndex: 1461 entries, 0 to 1460\n",
      "Data columns (total 5 columns):\n",
      " #   Column         Non-Null Count  Dtype  \n",
      "---  ------         --------------  -----  \n",
      " 0   date           1461 non-null   object \n",
      " 1   precipitation  1461 non-null   float64\n",
      " 2   temp_max       1461 non-null   float64\n",
      " 3   temp_min       1461 non-null   float64\n",
      " 4   wind           1461 non-null   float64\n",
      "dtypes: float64(4), object(1)\n",
      "memory usage: 57.2+ KB\n"
     ]
    }
   ],
   "source": [
    "seat.info()"
   ]
  },
  {
   "cell_type": "code",
   "execution_count": 5,
   "id": "e974d552",
   "metadata": {},
   "outputs": [
    {
     "data": {
      "text/html": [
       "<div>\n",
       "<style scoped>\n",
       "    .dataframe tbody tr th:only-of-type {\n",
       "        vertical-align: middle;\n",
       "    }\n",
       "\n",
       "    .dataframe tbody tr th {\n",
       "        vertical-align: top;\n",
       "    }\n",
       "\n",
       "    .dataframe thead th {\n",
       "        text-align: right;\n",
       "    }\n",
       "</style>\n",
       "<table border=\"1\" class=\"dataframe\">\n",
       "  <thead>\n",
       "    <tr style=\"text-align: right;\">\n",
       "      <th></th>\n",
       "      <th>precipitation</th>\n",
       "      <th>temp_max</th>\n",
       "      <th>temp_min</th>\n",
       "      <th>wind</th>\n",
       "    </tr>\n",
       "  </thead>\n",
       "  <tbody>\n",
       "    <tr>\n",
       "      <th>count</th>\n",
       "      <td>1461.000000</td>\n",
       "      <td>1461.000000</td>\n",
       "      <td>1461.000000</td>\n",
       "      <td>1461.000000</td>\n",
       "    </tr>\n",
       "    <tr>\n",
       "      <th>mean</th>\n",
       "      <td>3.029432</td>\n",
       "      <td>16.439083</td>\n",
       "      <td>8.234771</td>\n",
       "      <td>3.241136</td>\n",
       "    </tr>\n",
       "    <tr>\n",
       "      <th>std</th>\n",
       "      <td>6.680194</td>\n",
       "      <td>7.349758</td>\n",
       "      <td>5.023004</td>\n",
       "      <td>1.437825</td>\n",
       "    </tr>\n",
       "    <tr>\n",
       "      <th>min</th>\n",
       "      <td>0.000000</td>\n",
       "      <td>-1.600000</td>\n",
       "      <td>-7.100000</td>\n",
       "      <td>0.400000</td>\n",
       "    </tr>\n",
       "    <tr>\n",
       "      <th>25%</th>\n",
       "      <td>0.000000</td>\n",
       "      <td>10.600000</td>\n",
       "      <td>4.400000</td>\n",
       "      <td>2.200000</td>\n",
       "    </tr>\n",
       "    <tr>\n",
       "      <th>50%</th>\n",
       "      <td>0.000000</td>\n",
       "      <td>15.600000</td>\n",
       "      <td>8.300000</td>\n",
       "      <td>3.000000</td>\n",
       "    </tr>\n",
       "    <tr>\n",
       "      <th>75%</th>\n",
       "      <td>2.800000</td>\n",
       "      <td>22.200000</td>\n",
       "      <td>12.200000</td>\n",
       "      <td>4.000000</td>\n",
       "    </tr>\n",
       "    <tr>\n",
       "      <th>max</th>\n",
       "      <td>55.900000</td>\n",
       "      <td>35.600000</td>\n",
       "      <td>18.300000</td>\n",
       "      <td>9.500000</td>\n",
       "    </tr>\n",
       "  </tbody>\n",
       "</table>\n",
       "</div>"
      ],
      "text/plain": [
       "       precipitation     temp_max     temp_min         wind\n",
       "count    1461.000000  1461.000000  1461.000000  1461.000000\n",
       "mean        3.029432    16.439083     8.234771     3.241136\n",
       "std         6.680194     7.349758     5.023004     1.437825\n",
       "min         0.000000    -1.600000    -7.100000     0.400000\n",
       "25%         0.000000    10.600000     4.400000     2.200000\n",
       "50%         0.000000    15.600000     8.300000     3.000000\n",
       "75%         2.800000    22.200000    12.200000     4.000000\n",
       "max        55.900000    35.600000    18.300000     9.500000"
      ]
     },
     "execution_count": 5,
     "metadata": {},
     "output_type": "execute_result"
    }
   ],
   "source": [
    "seat.describe()"
   ]
  },
  {
   "cell_type": "code",
   "execution_count": 6,
   "id": "3a7db049",
   "metadata": {},
   "outputs": [
    {
     "data": {
      "text/html": [
       "<div>\n",
       "<style scoped>\n",
       "    .dataframe tbody tr th:only-of-type {\n",
       "        vertical-align: middle;\n",
       "    }\n",
       "\n",
       "    .dataframe tbody tr th {\n",
       "        vertical-align: top;\n",
       "    }\n",
       "\n",
       "    .dataframe thead th {\n",
       "        text-align: right;\n",
       "    }\n",
       "</style>\n",
       "<table border=\"1\" class=\"dataframe\">\n",
       "  <thead>\n",
       "    <tr style=\"text-align: right;\">\n",
       "      <th></th>\n",
       "      <th>precipitation</th>\n",
       "      <th>temp_max</th>\n",
       "      <th>temp_min</th>\n",
       "      <th>wind</th>\n",
       "    </tr>\n",
       "  </thead>\n",
       "  <tbody>\n",
       "    <tr>\n",
       "      <th>precipitation</th>\n",
       "      <td>44.624996</td>\n",
       "      <td>-11.221541</td>\n",
       "      <td>-2.438887</td>\n",
       "      <td>3.150857</td>\n",
       "    </tr>\n",
       "    <tr>\n",
       "      <th>temp_max</th>\n",
       "      <td>-11.221541</td>\n",
       "      <td>54.018944</td>\n",
       "      <td>32.328483</td>\n",
       "      <td>-1.742150</td>\n",
       "    </tr>\n",
       "    <tr>\n",
       "      <th>temp_min</th>\n",
       "      <td>-2.438887</td>\n",
       "      <td>32.328483</td>\n",
       "      <td>25.230571</td>\n",
       "      <td>-0.535781</td>\n",
       "    </tr>\n",
       "    <tr>\n",
       "      <th>wind</th>\n",
       "      <td>3.150857</td>\n",
       "      <td>-1.742150</td>\n",
       "      <td>-0.535781</td>\n",
       "      <td>2.067341</td>\n",
       "    </tr>\n",
       "  </tbody>\n",
       "</table>\n",
       "</div>"
      ],
      "text/plain": [
       "               precipitation   temp_max   temp_min      wind\n",
       "precipitation      44.624996 -11.221541  -2.438887  3.150857\n",
       "temp_max          -11.221541  54.018944  32.328483 -1.742150\n",
       "temp_min           -2.438887  32.328483  25.230571 -0.535781\n",
       "wind                3.150857  -1.742150  -0.535781  2.067341"
      ]
     },
     "execution_count": 6,
     "metadata": {},
     "output_type": "execute_result"
    }
   ],
   "source": [
    "seat.cov()"
   ]
  },
  {
   "cell_type": "code",
   "execution_count": 7,
   "id": "3b3d56dc",
   "metadata": {},
   "outputs": [
    {
     "data": {
      "text/html": [
       "<div>\n",
       "<style scoped>\n",
       "    .dataframe tbody tr th:only-of-type {\n",
       "        vertical-align: middle;\n",
       "    }\n",
       "\n",
       "    .dataframe tbody tr th {\n",
       "        vertical-align: top;\n",
       "    }\n",
       "\n",
       "    .dataframe thead th {\n",
       "        text-align: right;\n",
       "    }\n",
       "</style>\n",
       "<table border=\"1\" class=\"dataframe\">\n",
       "  <thead>\n",
       "    <tr style=\"text-align: right;\">\n",
       "      <th></th>\n",
       "      <th>precipitation</th>\n",
       "      <th>temp_max</th>\n",
       "      <th>temp_min</th>\n",
       "      <th>wind</th>\n",
       "    </tr>\n",
       "  </thead>\n",
       "  <tbody>\n",
       "    <tr>\n",
       "      <th>precipitation</th>\n",
       "      <td>1.000000</td>\n",
       "      <td>-0.228555</td>\n",
       "      <td>-0.072684</td>\n",
       "      <td>0.328045</td>\n",
       "    </tr>\n",
       "    <tr>\n",
       "      <th>temp_max</th>\n",
       "      <td>-0.228555</td>\n",
       "      <td>1.000000</td>\n",
       "      <td>0.875687</td>\n",
       "      <td>-0.164857</td>\n",
       "    </tr>\n",
       "    <tr>\n",
       "      <th>temp_min</th>\n",
       "      <td>-0.072684</td>\n",
       "      <td>0.875687</td>\n",
       "      <td>1.000000</td>\n",
       "      <td>-0.074185</td>\n",
       "    </tr>\n",
       "    <tr>\n",
       "      <th>wind</th>\n",
       "      <td>0.328045</td>\n",
       "      <td>-0.164857</td>\n",
       "      <td>-0.074185</td>\n",
       "      <td>1.000000</td>\n",
       "    </tr>\n",
       "  </tbody>\n",
       "</table>\n",
       "</div>"
      ],
      "text/plain": [
       "               precipitation  temp_max  temp_min      wind\n",
       "precipitation       1.000000 -0.228555 -0.072684  0.328045\n",
       "temp_max           -0.228555  1.000000  0.875687 -0.164857\n",
       "temp_min           -0.072684  0.875687  1.000000 -0.074185\n",
       "wind                0.328045 -0.164857 -0.074185  1.000000"
      ]
     },
     "execution_count": 7,
     "metadata": {},
     "output_type": "execute_result"
    }
   ],
   "source": [
    "seat.corr(method='pearson')"
   ]
  },
  {
   "cell_type": "code",
   "execution_count": 8,
   "id": "2a4b5d98",
   "metadata": {},
   "outputs": [
    {
     "data": {
      "image/png": "[encoded data removed]",
      "text/plain": [
       "<Figure size 1000x1000 with 4 Axes>"
      ]
     },
     "metadata": {},
     "output_type": "display_data"
    }
   ],
   "source": [
    "sns.clustermap(seat.corr(), \n",
    "               annot = True,      \n",
    "               cmap = 'RdYlBu_r',  \n",
    "               vmin = -1, vmax = 1,\n",
    "              )\n",
    "plt.show()"
   ]
  },
  {
   "cell_type": "code",
   "execution_count": 9,
   "id": "299e51ff",
   "metadata": {},
   "outputs": [
    {
     "data": {
      "text/plain": [
       "date             0\n",
       "precipitation    0\n",
       "temp_max         0\n",
       "temp_min         0\n",
       "wind             0\n",
       "dtype: int64"
      ]
     },
     "execution_count": 9,
     "metadata": {},
     "output_type": "execute_result"
    }
   ],
   "source": [
    "seat.isnull().sum()"
   ]
  },
  {
   "cell_type": "markdown",
   "id": "12136e61",
   "metadata": {},
   "source": [
    "# 2. 결측치 만들기"
   ]
  },
  {
   "cell_type": "code",
   "execution_count": 10,
   "id": "a49f7d5a",
   "metadata": {},
   "outputs": [
    {
     "data": {
      "text/html": [
       "<div>\n",
       "<style scoped>\n",
       "    .dataframe tbody tr th:only-of-type {\n",
       "        vertical-align: middle;\n",
       "    }\n",
       "\n",
       "    .dataframe tbody tr th {\n",
       "        vertical-align: top;\n",
       "    }\n",
       "\n",
       "    .dataframe thead th {\n",
       "        text-align: right;\n",
       "    }\n",
       "</style>\n",
       "<table border=\"1\" class=\"dataframe\">\n",
       "  <thead>\n",
       "    <tr style=\"text-align: right;\">\n",
       "      <th></th>\n",
       "      <th>temp_max</th>\n",
       "      <th>temp_min</th>\n",
       "      <th>wind</th>\n",
       "    </tr>\n",
       "  </thead>\n",
       "  <tbody>\n",
       "    <tr>\n",
       "      <th>0</th>\n",
       "      <td>12.8</td>\n",
       "      <td>5.0</td>\n",
       "      <td>4.7</td>\n",
       "    </tr>\n",
       "    <tr>\n",
       "      <th>1</th>\n",
       "      <td>10.6</td>\n",
       "      <td>2.8</td>\n",
       "      <td>4.5</td>\n",
       "    </tr>\n",
       "    <tr>\n",
       "      <th>2</th>\n",
       "      <td>11.7</td>\n",
       "      <td>7.2</td>\n",
       "      <td>2.3</td>\n",
       "    </tr>\n",
       "    <tr>\n",
       "      <th>3</th>\n",
       "      <td>12.2</td>\n",
       "      <td>5.6</td>\n",
       "      <td>4.7</td>\n",
       "    </tr>\n",
       "    <tr>\n",
       "      <th>4</th>\n",
       "      <td>8.9</td>\n",
       "      <td>2.8</td>\n",
       "      <td>6.1</td>\n",
       "    </tr>\n",
       "    <tr>\n",
       "      <th>...</th>\n",
       "      <td>...</td>\n",
       "      <td>...</td>\n",
       "      <td>...</td>\n",
       "    </tr>\n",
       "    <tr>\n",
       "      <th>1456</th>\n",
       "      <td>4.4</td>\n",
       "      <td>1.7</td>\n",
       "      <td>2.9</td>\n",
       "    </tr>\n",
       "    <tr>\n",
       "      <th>1457</th>\n",
       "      <td>5.0</td>\n",
       "      <td>1.7</td>\n",
       "      <td>1.3</td>\n",
       "    </tr>\n",
       "    <tr>\n",
       "      <th>1458</th>\n",
       "      <td>7.2</td>\n",
       "      <td>0.6</td>\n",
       "      <td>2.6</td>\n",
       "    </tr>\n",
       "    <tr>\n",
       "      <th>1459</th>\n",
       "      <td>5.6</td>\n",
       "      <td>-1.0</td>\n",
       "      <td>3.4</td>\n",
       "    </tr>\n",
       "    <tr>\n",
       "      <th>1460</th>\n",
       "      <td>5.6</td>\n",
       "      <td>-2.1</td>\n",
       "      <td>3.5</td>\n",
       "    </tr>\n",
       "  </tbody>\n",
       "</table>\n",
       "<p>1461 rows × 3 columns</p>\n",
       "</div>"
      ],
      "text/plain": [
       "      temp_max  temp_min  wind\n",
       "0         12.8       5.0   4.7\n",
       "1         10.6       2.8   4.5\n",
       "2         11.7       7.2   2.3\n",
       "3         12.2       5.6   4.7\n",
       "4          8.9       2.8   6.1\n",
       "...        ...       ...   ...\n",
       "1456       4.4       1.7   2.9\n",
       "1457       5.0       1.7   1.3\n",
       "1458       7.2       0.6   2.6\n",
       "1459       5.6      -1.0   3.4\n",
       "1460       5.6      -2.1   3.5\n",
       "\n",
       "[1461 rows x 3 columns]"
      ]
     },
     "execution_count": 10,
     "metadata": {},
     "output_type": "execute_result"
    }
   ],
   "source": [
    "seat_x= seat[['temp_max','temp_min','wind']]\n",
    "seat_x"
   ]
  },
  {
   "cell_type": "code",
   "execution_count": 11,
   "id": "9a6ec373",
   "metadata": {},
   "outputs": [
    {
     "data": {
      "text/plain": [
       "array([210, 184,  48, 222, 288, 295,  46, 120, 104, 262, 350, 249,  99,\n",
       "       213, 154, 155, 144, 309, 319, 262, 373, 150,  78, 307, 231, 253,\n",
       "       108, 382, 110, 308, 365, 312, 315,  42,   1, 369, 263, 128, 121,\n",
       "        77, 131,  38, 180,  98, 386, 191, 260, 306, 244,  57, 148, 271,\n",
       "       166, 186, 201, 347, 178,  18, 133, 111,  93, 147, 388, 261, 384,\n",
       "       318,  97, 305, 280, 344, 195,  57,  79, 340, 118, 263,  26, 233,\n",
       "       323,  35,  13, 134, 376, 122, 138, 331, 388, 364,  66, 319,  45,\n",
       "       210, 378, 250,  62, 312, 202, 292, 208, 227, 351, 238, 230, 183,\n",
       "       117, 186,  81, 210, 166,  61, 216, 199, 219, 241, 323,  21, 157,\n",
       "       175, 310, 104,  78, 137, 316,  28, 147,  68, 351,  80, 298, 311,\n",
       "       373, 303, 156, 151, 229, 308, 385, 246, 131, 276,  72, 332, 125,\n",
       "       156, 279, 181,  28, 252, 291,   8, 209, 201,   2, 160,  75, 252,\n",
       "       223, 231,  70,  82,  83, 211,   5, 290, 214, 224, 311, 353, 289,\n",
       "       257, 318, 256, 363, 334, 269,  49,  82, 169, 356, 126, 295, 368,\n",
       "       377,  31, 100, 365, 322, 385, 210, 149, 379, 372, 131, 322,  16,\n",
       "        45, 153,  97, 324, 378])"
      ]
     },
     "execution_count": 11,
     "metadata": {},
     "output_type": "execute_result"
    }
   ],
   "source": [
    "msv=np.random.randint(0,389, size=200)\n",
    "msv"
   ]
  },
  {
   "cell_type": "code",
   "execution_count": 12,
   "id": "0c177c14",
   "metadata": {},
   "outputs": [
    {
     "name": "stderr",
     "output_type": "stream",
     "text": [
      "C:\\Users\\qorud\\AppData\\Local\\Temp\\ipykernel_10424\\2090769268.py:1: SettingWithCopyWarning: \n",
      "A value is trying to be set on a copy of a slice from a DataFrame\n",
      "\n",
      "See the caveats in the documentation: https://pandas.pydata.org/pandas-docs/stable/user_guide/indexing.html#returning-a-view-versus-a-copy\n",
      "  seat_x.iloc[msv] = np.nan\n"
     ]
    }
   ],
   "source": [
    "seat_x.iloc[msv] = np.nan"
   ]
  },
  {
   "cell_type": "code",
   "execution_count": 13,
   "id": "44949221",
   "metadata": {},
   "outputs": [
    {
     "data": {
      "text/plain": [
       "temp_max    165\n",
       "temp_min    165\n",
       "wind        165\n",
       "dtype: int64"
      ]
     },
     "execution_count": 13,
     "metadata": {},
     "output_type": "execute_result"
    }
   ],
   "source": [
    "seat_x.isna().sum()"
   ]
  },
  {
   "cell_type": "code",
   "execution_count": 14,
   "id": "986550dc",
   "metadata": {},
   "outputs": [
    {
     "data": {
      "text/plain": [
       "<AxesSubplot:>"
      ]
     },
     "execution_count": 14,
     "metadata": {},
     "output_type": "execute_result"
    },
    {
     "data": {
      "image/png": "[encoded data removed]",
      "text/plain": [
       "<Figure size 640x480 with 1 Axes>"
      ]
     },
     "metadata": {},
     "output_type": "display_data"
    }
   ],
   "source": [
    "seat_sp =pd.concat([seat_x ,seat['precipitation']],axis=1)\n",
    "seat_sp1 =pd.concat([seat_x ,seat['precipitation']],axis=1)\n",
    "seat_sp2 =pd.concat([seat_x ,seat['precipitation']],axis=1)\n",
    "seat_sp3 =pd.concat([seat_x ,seat['precipitation']],axis=1)\n",
    "seat_sp4 =pd.concat([seat_x ,seat['precipitation']],axis=1)\n",
    "\n",
    "seat_sp.temp_max.plot()"
   ]
  },
  {
   "cell_type": "markdown",
   "id": "7d685d6b",
   "metadata": {},
   "source": [
    "# 3. 평균대체법"
   ]
  },
  {
   "cell_type": "code",
   "execution_count": 15,
   "id": "c579f004",
   "metadata": {},
   "outputs": [
    {
     "data": {
      "text/plain": [
       "temp_max         0\n",
       "temp_min         0\n",
       "wind             0\n",
       "precipitation    0\n",
       "dtype: int64"
      ]
     },
     "execution_count": 15,
     "metadata": {},
     "output_type": "execute_result"
    }
   ],
   "source": [
    "seat_sp1['temp_max'] = seat_sp1['temp_max'].fillna(seat_x.temp_max.mean())\n",
    "seat_sp1['temp_min'] = seat_sp1['temp_min'].fillna(seat_x.temp_min.mean())\n",
    "seat_sp1['wind'] = seat_sp1['wind'].fillna(seat_x.wind.mean())\n",
    "seat_sp1.isna().sum()"
   ]
  },
  {
   "cell_type": "code",
   "execution_count": 16,
   "id": "48711427",
   "metadata": {},
   "outputs": [],
   "source": [
    "import statsmodels.api as sm #회귀 분석 모듈\n",
    "import matplotlib.pyplot as plt # 시각화 모듈\n",
    "y1=seat_sp1.precipitation.iloc[0:700]\n",
    "x1=seat_sp1.iloc[0:700]\n",
    "x1=x1.drop(columns='precipitation')\n",
    "fit_train1 = sm.OLS(y1, x1) # 회귀분석 진행하기 (다중회귀)\n",
    "fit_train1 = fit_train1.fit() # 회귀분석 Fit 모델\n",
    "y1_test=seat_sp1.precipitation.iloc[701:1460]\n",
    "x1_test=seat_sp1.iloc[701:1460]\n",
    "x1_test=x1_test.drop(columns='precipitation')\n"
   ]
  },
  {
   "cell_type": "code",
   "execution_count": 17,
   "id": "64fcddda",
   "metadata": {},
   "outputs": [
    {
     "data": {
      "image/png": "[encoded data removed]",
      "text/plain": [
       "<Figure size 640x480 with 1 Axes>"
      ]
     },
     "metadata": {},
     "output_type": "display_data"
    }
   ],
   "source": [
    "plt.plot(np.array(fit_train1.predict(x1_test)),label='pred')\n",
    "plt.plot(np.array(y1_test), label='True')\n",
    "plt.legend()\n",
    "plt.show()"
   ]
  },
  {
   "cell_type": "code",
   "execution_count": 18,
   "id": "b2942a33",
   "metadata": {},
   "outputs": [
    {
     "name": "stdout",
     "output_type": "stream",
     "text": [
      "41.30197793035452\n"
     ]
    }
   ],
   "source": [
    "from sklearn.metrics import mean_squared_error\n",
    "mse1 = mean_squared_error(y_true = y1_test, y_pred = fit_train1.predict(x1_test))\n",
    "print(mse1)"
   ]
  },
  {
   "cell_type": "markdown",
   "id": "39095fd2",
   "metadata": {},
   "source": [
    "# 4. simpleimputer_median"
   ]
  },
  {
   "cell_type": "code",
   "execution_count": 19,
   "id": "ff809cd8",
   "metadata": {},
   "outputs": [
    {
     "data": {
      "text/plain": [
       "array([[12.8,  5. ,  4.7,  0. ],\n",
       "       [15.6,  8.9,  3. , 10.9],\n",
       "       [15.6,  8.9,  3. ,  0.8],\n",
       "       ...,\n",
       "       [ 7.2,  0.6,  2.6,  0. ],\n",
       "       [ 5.6, -1. ,  3.4,  0. ],\n",
       "       [ 5.6, -2.1,  3.5,  0. ]])"
      ]
     },
     "execution_count": 19,
     "metadata": {},
     "output_type": "execute_result"
    }
   ],
   "source": [
    "from sklearn.impute import SimpleImputer\n",
    "imp_mean = SimpleImputer(missing_values=np.nan, strategy='median')\n",
    "seat_sp2 =imp_mean.fit_transform(seat_sp2)\n",
    "seat_sp2"
   ]
  },
  {
   "cell_type": "code",
   "execution_count": 20,
   "id": "73993ae5",
   "metadata": {},
   "outputs": [
    {
     "data": {
      "text/plain": [
       "0    0\n",
       "1    0\n",
       "2    0\n",
       "3    0\n",
       "dtype: int64"
      ]
     },
     "execution_count": 20,
     "metadata": {},
     "output_type": "execute_result"
    }
   ],
   "source": [
    "seat_sp2= pd.DataFrame(seat_sp2)\n",
    "seat_sp2.isna().sum()"
   ]
  },
  {
   "cell_type": "code",
   "execution_count": 21,
   "id": "82eef987",
   "metadata": {},
   "outputs": [
    {
     "data": {
      "text/html": [
       "<div>\n",
       "<style scoped>\n",
       "    .dataframe tbody tr th:only-of-type {\n",
       "        vertical-align: middle;\n",
       "    }\n",
       "\n",
       "    .dataframe tbody tr th {\n",
       "        vertical-align: top;\n",
       "    }\n",
       "\n",
       "    .dataframe thead th {\n",
       "        text-align: right;\n",
       "    }\n",
       "</style>\n",
       "<table border=\"1\" class=\"dataframe\">\n",
       "  <thead>\n",
       "    <tr style=\"text-align: right;\">\n",
       "      <th></th>\n",
       "      <th>temp_max</th>\n",
       "      <th>temp_min</th>\n",
       "      <th>wind</th>\n",
       "      <th>precipitation</th>\n",
       "    </tr>\n",
       "  </thead>\n",
       "  <tbody>\n",
       "    <tr>\n",
       "      <th>0</th>\n",
       "      <td>12.8</td>\n",
       "      <td>5.0</td>\n",
       "      <td>4.7</td>\n",
       "      <td>0.0</td>\n",
       "    </tr>\n",
       "    <tr>\n",
       "      <th>1</th>\n",
       "      <td>15.6</td>\n",
       "      <td>8.9</td>\n",
       "      <td>3.0</td>\n",
       "      <td>10.9</td>\n",
       "    </tr>\n",
       "    <tr>\n",
       "      <th>2</th>\n",
       "      <td>15.6</td>\n",
       "      <td>8.9</td>\n",
       "      <td>3.0</td>\n",
       "      <td>0.8</td>\n",
       "    </tr>\n",
       "    <tr>\n",
       "      <th>3</th>\n",
       "      <td>12.2</td>\n",
       "      <td>5.6</td>\n",
       "      <td>4.7</td>\n",
       "      <td>20.3</td>\n",
       "    </tr>\n",
       "    <tr>\n",
       "      <th>4</th>\n",
       "      <td>8.9</td>\n",
       "      <td>2.8</td>\n",
       "      <td>6.1</td>\n",
       "      <td>1.3</td>\n",
       "    </tr>\n",
       "    <tr>\n",
       "      <th>...</th>\n",
       "      <td>...</td>\n",
       "      <td>...</td>\n",
       "      <td>...</td>\n",
       "      <td>...</td>\n",
       "    </tr>\n",
       "    <tr>\n",
       "      <th>1456</th>\n",
       "      <td>4.4</td>\n",
       "      <td>1.7</td>\n",
       "      <td>2.9</td>\n",
       "      <td>8.6</td>\n",
       "    </tr>\n",
       "    <tr>\n",
       "      <th>1457</th>\n",
       "      <td>5.0</td>\n",
       "      <td>1.7</td>\n",
       "      <td>1.3</td>\n",
       "      <td>1.5</td>\n",
       "    </tr>\n",
       "    <tr>\n",
       "      <th>1458</th>\n",
       "      <td>7.2</td>\n",
       "      <td>0.6</td>\n",
       "      <td>2.6</td>\n",
       "      <td>0.0</td>\n",
       "    </tr>\n",
       "    <tr>\n",
       "      <th>1459</th>\n",
       "      <td>5.6</td>\n",
       "      <td>-1.0</td>\n",
       "      <td>3.4</td>\n",
       "      <td>0.0</td>\n",
       "    </tr>\n",
       "    <tr>\n",
       "      <th>1460</th>\n",
       "      <td>5.6</td>\n",
       "      <td>-2.1</td>\n",
       "      <td>3.5</td>\n",
       "      <td>0.0</td>\n",
       "    </tr>\n",
       "  </tbody>\n",
       "</table>\n",
       "<p>1461 rows × 4 columns</p>\n",
       "</div>"
      ],
      "text/plain": [
       "      temp_max  temp_min  wind  precipitation\n",
       "0         12.8       5.0   4.7            0.0\n",
       "1         15.6       8.9   3.0           10.9\n",
       "2         15.6       8.9   3.0            0.8\n",
       "3         12.2       5.6   4.7           20.3\n",
       "4          8.9       2.8   6.1            1.3\n",
       "...        ...       ...   ...            ...\n",
       "1456       4.4       1.7   2.9            8.6\n",
       "1457       5.0       1.7   1.3            1.5\n",
       "1458       7.2       0.6   2.6            0.0\n",
       "1459       5.6      -1.0   3.4            0.0\n",
       "1460       5.6      -2.1   3.5            0.0\n",
       "\n",
       "[1461 rows x 4 columns]"
      ]
     },
     "execution_count": 21,
     "metadata": {},
     "output_type": "execute_result"
    }
   ],
   "source": [
    "seat_sp2.columns = ['temp_max','temp_min','wind','precipitation']\n",
    "seat_sp2"
   ]
  },
  {
   "cell_type": "code",
   "execution_count": 22,
   "id": "51009c6c",
   "metadata": {},
   "outputs": [
    {
     "data": {
      "image/png": "[encoded data removed]",
      "text/plain": [
       "<Figure size 640x480 with 1 Axes>"
      ]
     },
     "metadata": {},
     "output_type": "display_data"
    }
   ],
   "source": [
    "y2=seat_sp2.precipitation.iloc[0:700]\n",
    "x2=seat_sp2.iloc[0:700]\n",
    "x2=x2.drop(columns='precipitation')\n",
    "\n",
    "fit_train2 = sm.OLS(y2, x2) # 회귀분석 진행하기 (다중회귀)\n",
    "fit_train2 = fit_train2.fit() # 회귀분석 Fit 모델\n",
    "y2_test=seat_sp2.precipitation.iloc[701:1460]\n",
    "x2_test=seat_sp2.iloc[701:1460]\n",
    "x2_test=x2_test.drop(columns='precipitation')\n",
    "plt.plot(np.array(fit_train2.predict(x2_test)),label='pred')\n",
    "plt.plot(np.array(y2_test), label='True')\n",
    "plt.legend()\n",
    "plt.show()"
   ]
  },
  {
   "cell_type": "code",
   "execution_count": 23,
   "id": "21041dfa",
   "metadata": {},
   "outputs": [
    {
     "name": "stdout",
     "output_type": "stream",
     "text": [
      "41.31790470308283\n"
     ]
    }
   ],
   "source": [
    "from sklearn.metrics import mean_squared_error\n",
    "mse2 = mean_squared_error(y_true = y2_test, y_pred = fit_train2.predict(x2_test))\n",
    "print(mse2)"
   ]
  },
  {
   "cell_type": "markdown",
   "id": "51806f16",
   "metadata": {},
   "source": [
    "# 5. SimpleImputer- Frequency"
   ]
  },
  {
   "cell_type": "code",
   "execution_count": 24,
   "id": "0eeb498c",
   "metadata": {},
   "outputs": [
    {
     "name": "stderr",
     "output_type": "stream",
     "text": [
      "C:\\Users\\qorud\\anaconda3\\lib\\site-packages\\sklearn\\impute\\_base.py:49: FutureWarning: Unlike other reduction functions (e.g. `skew`, `kurtosis`), the default behavior of `mode` typically preserves the axis it acts along. In SciPy 1.11.0, this behavior will change: the default value of `keepdims` will become False, the `axis` over which the statistic is taken will be eliminated, and the value None will no longer be accepted. Set `keepdims` to True or False to avoid this warning.\n",
      "  mode = stats.mode(array)\n"
     ]
    },
    {
     "data": {
      "text/plain": [
       "array([[12.8,  5. ,  4.7,  0. ],\n",
       "       [11.1, 10. ,  2.6, 10.9],\n",
       "       [11.1, 10. ,  2.6,  0.8],\n",
       "       ...,\n",
       "       [ 7.2,  0.6,  2.6,  0. ],\n",
       "       [ 5.6, -1. ,  3.4,  0. ],\n",
       "       [ 5.6, -2.1,  3.5,  0. ]])"
      ]
     },
     "execution_count": 24,
     "metadata": {},
     "output_type": "execute_result"
    }
   ],
   "source": [
    "imp_mean = SimpleImputer(missing_values=np.nan, strategy='most_frequent')\n",
    "seat_sp4 = imp_mean.fit_transform(seat_sp4)\n",
    "seat_sp4"
   ]
  },
  {
   "cell_type": "code",
   "execution_count": 25,
   "id": "fdeb174d",
   "metadata": {},
   "outputs": [
    {
     "data": {
      "text/plain": [
       "temp_max         0\n",
       "temp_min         0\n",
       "wind             0\n",
       "precipitation    0\n",
       "dtype: int64"
      ]
     },
     "execution_count": 25,
     "metadata": {},
     "output_type": "execute_result"
    }
   ],
   "source": [
    "seat_sp4= pd.DataFrame(seat_sp4)\n",
    "seat_sp4.columns = ['temp_max','temp_min','wind','precipitation']\n",
    "seat_sp4\n",
    "seat_sp4.isna().sum()"
   ]
  },
  {
   "cell_type": "code",
   "execution_count": 26,
   "id": "973057b8",
   "metadata": {},
   "outputs": [
    {
     "data": {
      "image/png": "[encoded data removed]",
      "text/plain": [
       "<Figure size 640x480 with 1 Axes>"
      ]
     },
     "metadata": {},
     "output_type": "display_data"
    }
   ],
   "source": [
    "y4=seat_sp4.precipitation.iloc[0:700]\n",
    "x4=seat_sp4.iloc[0:700]\n",
    "x4=x4.drop(columns='precipitation')\n",
    "\n",
    "fit_train4 = sm.OLS(y4, x4) # 회귀분석 진행하기 (다중회귀)\n",
    "fit_train4 = fit_train4.fit() # 회귀분석 Fit 모델\n",
    "y4_test=seat_sp4.precipitation.iloc[701:1460]\n",
    "x4_test=seat_sp4.iloc[701:1460]\n",
    "x4_test=x4_test.drop(columns='precipitation')\n",
    "plt.plot(np.array(fit_train4.predict(x4_test)),label='pred')\n",
    "plt.plot(np.array(y4_test), label='True')\n",
    "plt.legend()\n",
    "plt.show()"
   ]
  },
  {
   "cell_type": "code",
   "execution_count": 27,
   "id": "aa2fbdfe",
   "metadata": {},
   "outputs": [
    {
     "name": "stdout",
     "output_type": "stream",
     "text": [
      "41.93083804944319\n"
     ]
    }
   ],
   "source": [
    "from sklearn.metrics import mean_squared_error\n",
    "mse4 = mean_squared_error(y_true = y4_test, y_pred = fit_train4.predict(x4_test))\n",
    "print(mse4)"
   ]
  },
  {
   "cell_type": "code",
   "execution_count": null,
   "id": "7a5f0679",
   "metadata": {},
   "outputs": [],
   "source": []
  },
  {
   "cell_type": "markdown",
   "id": "6acb3dca",
   "metadata": {},
   "source": [
    "# 6. iterative imputer"
   ]
  },
  {
   "cell_type": "code",
   "execution_count": 28,
   "id": "70cde394",
   "metadata": {},
   "outputs": [
    {
     "name": "stderr",
     "output_type": "stream",
     "text": [
      "C:\\Users\\qorud\\anaconda3\\lib\\site-packages\\sklearn\\impute\\_iterative.py:699: ConvergenceWarning: [IterativeImputer] Early stopping criterion not reached.\n",
      "  warnings.warn(\n"
     ]
    },
    {
     "data": {
      "text/plain": [
       "array([[12.8       ,  5.        ,  4.7       ,  0.        ],\n",
       "       [14.80073843,  8.12438177,  3.79669943, 10.9       ],\n",
       "       [17.1475697 ,  8.48638449,  3.08027765,  0.8       ],\n",
       "       ...,\n",
       "       [ 7.2       ,  0.6       ,  2.6       ,  0.        ],\n",
       "       [ 5.6       , -1.        ,  3.4       ,  0.        ],\n",
       "       [ 5.6       , -2.1       ,  3.5       ,  0.        ]])"
      ]
     },
     "execution_count": 28,
     "metadata": {},
     "output_type": "execute_result"
    }
   ],
   "source": [
    "from sklearn.experimental import enable_iterative_imputer  # noqa\n",
    "from sklearn.impute import IterativeImputer # 임퓨터 불러오기\n",
    "imputer = IterativeImputer(imputation_order = 'descending',\n",
    "                          max_iter=10, random_state=111,\n",
    "                          n_nearest_features=4)\n",
    "\n",
    "seat_sp3 =imputer.fit_transform(seat_sp3)\n",
    "seat_sp3"
   ]
  },
  {
   "cell_type": "code",
   "execution_count": 29,
   "id": "ff776989",
   "metadata": {},
   "outputs": [
    {
     "data": {
      "text/plain": [
       "0    0\n",
       "1    0\n",
       "2    0\n",
       "3    0\n",
       "dtype: int64"
      ]
     },
     "execution_count": 29,
     "metadata": {},
     "output_type": "execute_result"
    }
   ],
   "source": [
    "seat_sp3= pd.DataFrame(seat_sp3)\n",
    "seat_sp3.isna().sum()"
   ]
  },
  {
   "cell_type": "code",
   "execution_count": 30,
   "id": "20692c67",
   "metadata": {},
   "outputs": [
    {
     "data": {
      "text/html": [
       "<div>\n",
       "<style scoped>\n",
       "    .dataframe tbody tr th:only-of-type {\n",
       "        vertical-align: middle;\n",
       "    }\n",
       "\n",
       "    .dataframe tbody tr th {\n",
       "        vertical-align: top;\n",
       "    }\n",
       "\n",
       "    .dataframe thead th {\n",
       "        text-align: right;\n",
       "    }\n",
       "</style>\n",
       "<table border=\"1\" class=\"dataframe\">\n",
       "  <thead>\n",
       "    <tr style=\"text-align: right;\">\n",
       "      <th></th>\n",
       "      <th>temp_max</th>\n",
       "      <th>temp_min</th>\n",
       "      <th>wind</th>\n",
       "      <th>precipitation</th>\n",
       "    </tr>\n",
       "  </thead>\n",
       "  <tbody>\n",
       "    <tr>\n",
       "      <th>0</th>\n",
       "      <td>12.800000</td>\n",
       "      <td>5.000000</td>\n",
       "      <td>4.700000</td>\n",
       "      <td>0.0</td>\n",
       "    </tr>\n",
       "    <tr>\n",
       "      <th>1</th>\n",
       "      <td>14.800738</td>\n",
       "      <td>8.124382</td>\n",
       "      <td>3.796699</td>\n",
       "      <td>10.9</td>\n",
       "    </tr>\n",
       "    <tr>\n",
       "      <th>2</th>\n",
       "      <td>17.147570</td>\n",
       "      <td>8.486384</td>\n",
       "      <td>3.080278</td>\n",
       "      <td>0.8</td>\n",
       "    </tr>\n",
       "    <tr>\n",
       "      <th>3</th>\n",
       "      <td>12.200000</td>\n",
       "      <td>5.600000</td>\n",
       "      <td>4.700000</td>\n",
       "      <td>20.3</td>\n",
       "    </tr>\n",
       "    <tr>\n",
       "      <th>4</th>\n",
       "      <td>8.900000</td>\n",
       "      <td>2.800000</td>\n",
       "      <td>6.100000</td>\n",
       "      <td>1.3</td>\n",
       "    </tr>\n",
       "    <tr>\n",
       "      <th>...</th>\n",
       "      <td>...</td>\n",
       "      <td>...</td>\n",
       "      <td>...</td>\n",
       "      <td>...</td>\n",
       "    </tr>\n",
       "    <tr>\n",
       "      <th>1456</th>\n",
       "      <td>4.400000</td>\n",
       "      <td>1.700000</td>\n",
       "      <td>2.900000</td>\n",
       "      <td>8.6</td>\n",
       "    </tr>\n",
       "    <tr>\n",
       "      <th>1457</th>\n",
       "      <td>5.000000</td>\n",
       "      <td>1.700000</td>\n",
       "      <td>1.300000</td>\n",
       "      <td>1.5</td>\n",
       "    </tr>\n",
       "    <tr>\n",
       "      <th>1458</th>\n",
       "      <td>7.200000</td>\n",
       "      <td>0.600000</td>\n",
       "      <td>2.600000</td>\n",
       "      <td>0.0</td>\n",
       "    </tr>\n",
       "    <tr>\n",
       "      <th>1459</th>\n",
       "      <td>5.600000</td>\n",
       "      <td>-1.000000</td>\n",
       "      <td>3.400000</td>\n",
       "      <td>0.0</td>\n",
       "    </tr>\n",
       "    <tr>\n",
       "      <th>1460</th>\n",
       "      <td>5.600000</td>\n",
       "      <td>-2.100000</td>\n",
       "      <td>3.500000</td>\n",
       "      <td>0.0</td>\n",
       "    </tr>\n",
       "  </tbody>\n",
       "</table>\n",
       "<p>1461 rows × 4 columns</p>\n",
       "</div>"
      ],
      "text/plain": [
       "       temp_max  temp_min      wind  precipitation\n",
       "0     12.800000  5.000000  4.700000            0.0\n",
       "1     14.800738  8.124382  3.796699           10.9\n",
       "2     17.147570  8.486384  3.080278            0.8\n",
       "3     12.200000  5.600000  4.700000           20.3\n",
       "4      8.900000  2.800000  6.100000            1.3\n",
       "...         ...       ...       ...            ...\n",
       "1456   4.400000  1.700000  2.900000            8.6\n",
       "1457   5.000000  1.700000  1.300000            1.5\n",
       "1458   7.200000  0.600000  2.600000            0.0\n",
       "1459   5.600000 -1.000000  3.400000            0.0\n",
       "1460   5.600000 -2.100000  3.500000            0.0\n",
       "\n",
       "[1461 rows x 4 columns]"
      ]
     },
     "execution_count": 30,
     "metadata": {},
     "output_type": "execute_result"
    }
   ],
   "source": [
    "seat_sp3.columns = ['temp_max','temp_min','wind','precipitation']\n",
    "seat_sp3"
   ]
  },
  {
   "cell_type": "code",
   "execution_count": 31,
   "id": "16aa61bc",
   "metadata": {},
   "outputs": [
    {
     "data": {
      "image/png": "[encoded data removed]",
      "text/plain": [
       "<Figure size 640x480 with 1 Axes>"
      ]
     },
     "metadata": {},
     "output_type": "display_data"
    }
   ],
   "source": [
    "y3=seat_sp3.precipitation.iloc[0:700]\n",
    "x3=seat_sp3.iloc[0:700]\n",
    "x3=x3.drop(columns='precipitation')\n",
    "\n",
    "fit_train3 = sm.OLS(y3, x3) # 회귀분석 진행하기 (다중회귀)\n",
    "fit_train3 = fit_train3.fit() # 회귀분석 Fit 모델\n",
    "y3_test=seat_sp3.precipitation.iloc[701:1460]\n",
    "x3_test=seat_sp3.iloc[701:1460]\n",
    "x3_test=x3_test.drop(columns='precipitation')\n",
    "plt.plot(np.array(fit_train3.predict(x3_test)),label='pred')\n",
    "plt.plot(np.array(y3_test), label='True')\n",
    "plt.legend()\n",
    "plt.show()"
   ]
  },
  {
   "cell_type": "code",
   "execution_count": 32,
   "id": "2b8ef5a6",
   "metadata": {},
   "outputs": [
    {
     "name": "stdout",
     "output_type": "stream",
     "text": [
      "40.58567757738593\n"
     ]
    }
   ],
   "source": [
    "from sklearn.metrics import mean_squared_error\n",
    "mse3 = mean_squared_error(y_true = y3_test, y_pred = fit_train3.predict(x3_test))\n",
    "print(mse3)"
   ]
  },
  {
   "cell_type": "code",
   "execution_count": 34,
   "id": "980c8252",
   "metadata": {},
   "outputs": [
    {
     "name": "stdout",
     "output_type": "stream",
     "text": [
      "mean: 41.30197793035452\n",
      "median: 41.31790470308283\n",
      "frequence: 41.93083804944319\n",
      "iterative imputer: 40.58567757738593\n"
     ]
    }
   ],
   "source": [
    "print( 'mean:', mse1)\n",
    "print( 'median:', mse2)\n",
    "print( 'frequence:', mse4)\n",
    "print( 'iterative imputer:', mse3)"
   ]
  }
 ],
 "metadata": {
  "kernelspec": {
   "display_name": "Python 3 (ipykernel)",
   "language": "python",
   "name": "python3"
  },
  "language_info": {
   "codemirror_mode": {
    "name": "ipython",
    "version": 3
   },
   "file_extension": ".py",
   "mimetype": "text/x-python",
   "name": "python",
   "nbconvert_exporter": "python",
   "pygments_lexer": "ipython3",
   "version": "3.9.13"
  }
 },
 "nbformat": 4,
 "nbformat_minor": 5
}
